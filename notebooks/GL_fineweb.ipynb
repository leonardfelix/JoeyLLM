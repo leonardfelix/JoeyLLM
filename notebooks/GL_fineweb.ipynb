{
 "cells": [
  {
   "cell_type": "markdown",
   "id": "9b930ecb",
   "metadata": {},
   "source": [
    "This searches the fineweb dataset on a streaming basis and pulls out samples where the URL includes .com.au\n",
    "\n",
    "Obviously, we could add other relevant TLDs - I don't really know the important ones for Australia. \n",
    "\n",
    "First, I printed some results, then saved to a .txt file, just to see what would work. We could save it any way that's useful. \n",
    "\n",
    "Also, I don't fully understand streaming or the vast size of this database! But it's a start. "
   ]
  },
  {
   "cell_type": "code",
   "execution_count": null,
   "id": "0656d870",
   "metadata": {},
   "outputs": [
    {
     "data": {
      "application/vnd.jupyter.widget-view+json": {
       "model_id": "29b425dc4f8f4a118fbb386408de4b1e",
       "version_major": 2,
       "version_minor": 0
      },
      "text/plain": [
       "Downloading readme:   0%|          | 0.00/43.1k [00:00<?, ?B/s]"
      ]
     },
     "metadata": {},
     "output_type": "display_data"
    },
    {
     "data": {
      "application/vnd.jupyter.widget-view+json": {
       "model_id": "e7ec43ece80b4260b665a130af2cc002",
       "version_major": 2,
       "version_minor": 0
      },
      "text/plain": [
       "Resolving data files:   0%|          | 0/25868 [00:00<?, ?it/s]"
      ]
     },
     "metadata": {},
     "output_type": "display_data"
    },
    {
     "data": {
      "application/vnd.jupyter.widget-view+json": {
       "model_id": "39e4df3aef7a4fbe97feb40122a69ee9",
       "version_major": 2,
       "version_minor": 0
      },
      "text/plain": [
       "Resolving data files:   0%|          | 0/25868 [00:00<?, ?it/s]"
      ]
     },
     "metadata": {},
     "output_type": "display_data"
    },
    {
     "name": "stdout",
     "output_type": "stream",
     "text": [
      "--- Document 1 ---\n",
      "Pneumonia is a common cause for ED visits. How do you decide on whether the patient can be managed as an outpatient or inpatient? To supplement your clinical judgment, many clinicians use the Pneumonia Severity Index (PSI) score.\n",
      "Have you heard of CURB-65, supported by the British Thoracic Society? What about SMART-COP, which is meant to help you predict if your patient will need Intensive Respiratory or Vasopressor Support (IRVS)?\n",
      "It's worth a quick review.\n",
      "Feel free to download this card and p\n",
      "...\n",
      "\n",
      "--- Document 2 ---\n",
      "things and stuff\n",
      "astronomy and life\n",
      "this is nice...thanks for sharing.\n",
      "Interesting video, with lots of relevant info, but I do not think it will make the big time on YouTube.\n",
      "i think youre right, ken. oh well!\n",
      "This is a gorgeous song...something I'd listen to without the video. Thanks for sharing!\n",
      "I think it's safe to say that this had made the big time on youTube.\n",
      "Post a Comment\n",
      "...\n",
      "\n",
      "--- Document 3 ---\n",
      "Level 1, 111 Harrington Street, Sydney\n",
      "Copyright impacts on everyone in their professional and personal lives today. The Copyright Council offers a range of practical seminars to assist creators and users of copyright material on how to work with copyright material in the digital age.\n",
      "The 2012 seminar program has been designed to ensure a strong, and practical, understanding of the latest copyright laws and applications.\n",
      "The Australian Copyright Council 2012 Seminar Program runs nationally from \n",
      "...\n",
      "\n",
      "--- Document 4 ---\n",
      "These wise words from Tolstoy seem even more relevant 100 years on.\n",
      "Matt Ridley has published a great essay in WIRED SCIENCE today. Ridley nails an issue that has plagued humanity since time immemorial. Some supposedly intelligent human beings become so convinced that Doomsday is upon them that nothing will persuade them to the contrary. Ridley’s essay is a must read for everyone interested in Doomsday predictions that have failed to materialise and why we should dump the Climate Scare in the sa\n",
      "...\n",
      "\n",
      "--- Document 5 ---\n",
      "Justine Davies –, Monday, January, 31, 2011, (10:09pm)\n",
      "Well, not necessarily just Gen Y – but there was an amusing article in the Sunday Mail on the weekend, titled ‘Gen Y Women losing “Female” Skills’. The article was commenting on the fact that Gen Y women are far less likely to pop a roast in the oven and do the ironing while they wait for it to cook, than their mothers were.\n",
      "We don’t bake as many lamingtons, either (although most women I know can put together a killer cocktail). And accordin\n",
      "...\n",
      "\n",
      "--- Document 6 ---\n",
      "“Incredibly funny and polished two-man musical experience” BMA Magazine\n",
      "“Clever” The Age\n",
      "“Performed an awesome hip hop retelling of Macbeth” The Groggy Squirrel\n",
      "Benjamin and James Stevenson are identical twins who combine to form the musical comedy duo, “The Stevenson Experience”. They first began their comedy career in high school by winning the state finals of the Melbourne International Comedy Festival’s Class Clowns competition. This brought them onto the main stage of the Melbourne Town Hal\n",
      "...\n",
      "\n",
      "--- Document 7 ---\n",
      "Ink Supply System (CISS)\n",
      "MIR-AUS Pty. Ltd. Supplies Continuous Ink Supply System (CISS)for the four major printer brands named as Epson, Canon, Brother and HP.Our CISS tanks come in two different shapes and capacities.The basic one called Fly V.3 holds 100ml ink for each...\n",
      "View all products of category \"Ink Supply System (CISS)\"\n",
      "Refill ink bottles\n",
      "Refill ink bottle use for Ink Supply System and Refillable ink cartridges.Note: you need a syringe to fill your containers. Except 100ml ink bottle.A\n",
      "...\n",
      "\n",
      "--- Document 8 ---\n",
      "Peanut butter enthusiasts – buckle up. There’s a new healthier alternative in town. I love peanut butter. I remember when I was younger, I’d go for spoonful after spoonful of this sinfully-wonderful-peanut-y-creamy paste after school. Yes, “glutton” I hear you say. But as I grew older, I soon realised that this spread isn’t too innocent afterall.\n",
      "...\n",
      "\n",
      "--- Document 9 ---\n",
      "There could be genetic reasons why some women succumb to pressure to be thin, while others maintain a positive body image, according to US researchers.\n",
      "“We’re all bombarded daily with messages extoling the virtues of being thin, yet intriguingly only some women develop what we term thin ideal internalisation,” study author Jessica Suisman from Michigan State University said in a press release.\n",
      "“This suggests that genetic factors may make some women more susceptible to this pressure than others.”\n",
      "...\n",
      "\n",
      "--- Document 10 ---\n",
      "- Managing Me\n",
      "- Big Ideas\n",
      "- Managing People\n",
      "“The object of [the Fair Work] Act is to provide a balanced framework for cooperative and productive workplace relations that promotes national economic prosperity and social inclusion for all Australians …” Fair Work Act, 2009.\n",
      "Many rail against the strictures of the laws governing the workplace. But what would they do if the Fair Work Act authorised them to craft their own framework, subject to but one key condition: that they must negotiate and agre\n",
      "...\n",
      "\n",
      "--- Document 11 ---\n",
      "Arts minister, transport chief go in Qld\n",
      "Queensland has lost its Arts Minister and Transport Department head in the same day.\n",
      "Minister Ros Bates resigned from cabinet for health and family reasons.\n",
      "Four hours later, Premier Campbell Newman sacked Transport and Main Roads Director General Michael Caltabiano.\n",
      "The former Liberal MP is at the centre of an Ethics Committee and Crime and Misconduct Commission investigation into an alleged nepotism scandal.\n",
      "The son of Ms Bates was given a plum job in M\n",
      "...\n",
      "\n"
     ]
    }
   ],
   "source": [
    "from datasets import load_dataset\n",
    "\n",
    "\n",
    "dataset = load_dataset(\"HuggingFaceFW/fineweb\", split=\"train\", streaming=True)\n",
    "\n",
    "filtered = (\n",
    "    example[\"text\"]\n",
    "    for example in dataset\n",
    "    if \".com.au\" in (example.get(\"url\", \"\") or \"\")\n",
    ")\n",
    "for i, text in enumerate(filtered):\n",
    "    print(f\"--- Document {i+1} ---\")\n",
    "    print(text[:500])  # Print first 500 chars to avoid overwhelming output\n",
    "    print(\"...\\n\")\n",
    "    if i >= 10:  # Changed to >= for clarity\n",
    "        break\n",
    "    "
   ]
  },
  {
   "cell_type": "markdown",
   "id": "b5b733dd",
   "metadata": {},
   "source": [
    "Now to include the URL so we can see where it has come from: "
   ]
  },
  {
   "cell_type": "code",
   "execution_count": null,
   "id": "79917d1f",
   "metadata": {},
   "outputs": [
    {
     "data": {
      "application/vnd.jupyter.widget-view+json": {
       "model_id": "f21f17707b74401dbe08a7015304a680",
       "version_major": 2,
       "version_minor": 0
      },
      "text/plain": [
       "Resolving data files:   0%|          | 0/25868 [00:00<?, ?it/s]"
      ]
     },
     "metadata": {},
     "output_type": "display_data"
    },
    {
     "data": {
      "application/vnd.jupyter.widget-view+json": {
       "model_id": "56cd7e3558434a7ab81d8316b5e1d2e0",
       "version_major": 2,
       "version_minor": 0
      },
      "text/plain": [
       "Resolving data files:   0%|          | 0/25868 [00:00<?, ?it/s]"
      ]
     },
     "metadata": {},
     "output_type": "display_data"
    },
    {
     "name": "stdout",
     "output_type": "stream",
     "text": [
      "--- Document 1 ---\n",
      "Pneumonia is a common cause for ED visits. How do you decide on whether the patient can be managed as an outpatient or inpatient? To supplement your clinical judgment, many clinicians use the Pneumonia Severity Index (PSI) score.\n",
      "Have you heard of CURB-65, supported by the British Thoracic Society? What about SMART-COP, which is meant to help you predict if your patient will need Intensive Respiratory or Vasopressor Support (IRVS)?\n",
      "It's worth a quick review.\n",
      "Feel free to download this card and p\n",
      "...\n",
      "Source URL: http://academiclifeinem.blogspot.com.au/2011_02_01_archive.html\n",
      "--------------------------------------------------\n",
      "--- Document 2 ---\n",
      "things and stuff\n",
      "astronomy and life\n",
      "this is nice...thanks for sharing.\n",
      "Interesting video, with lots of relevant info, but I do not think it will make the big time on YouTube.\n",
      "i think youre right, ken. oh well!\n",
      "This is a gorgeous song...something I'd listen to without the video. Thanks for sharing!\n",
      "I think it's safe to say that this had made the big time on youTube.\n",
      "Post a Comment\n",
      "...\n",
      "Source URL: http://amandabauer.blogspot.com.au/2009/10/carl-sagan-rocks-out.html\n",
      "--------------------------------------------------\n",
      "--- Document 3 ---\n",
      "Level 1, 111 Harrington Street, Sydney\n",
      "Copyright impacts on everyone in their professional and personal lives today. The Copyright Council offers a range of practical seminars to assist creators and users of copyright material on how to work with copyright material in the digital age.\n",
      "The 2012 seminar program has been designed to ensure a strong, and practical, understanding of the latest copyright laws and applications.\n",
      "The Australian Copyright Council 2012 Seminar Program runs nationally from \n",
      "...\n",
      "Source URL: http://apra-amcos.com.au/news/allevents/NSWAustralianCopyrightCouncil2012SeminarProgram.aspx\n",
      "--------------------------------------------------\n",
      "--- Document 4 ---\n",
      "These wise words from Tolstoy seem even more relevant 100 years on.\n",
      "Matt Ridley has published a great essay in WIRED SCIENCE today. Ridley nails an issue that has plagued humanity since time immemorial. Some supposedly intelligent human beings become so convinced that Doomsday is upon them that nothing will persuade them to the contrary. Ridley’s essay is a must read for everyone interested in Doomsday predictions that have failed to materialise and why we should dump the Climate Scare in the sa\n",
      "...\n",
      "Source URL: http://austeaparty.com.au/web/the-end-is-not-nigh-but-many-of-us-just-dont-get-it/\n",
      "--------------------------------------------------\n",
      "--- Document 5 ---\n",
      "Justine Davies –, Monday, January, 31, 2011, (10:09pm)\n",
      "Well, not necessarily just Gen Y – but there was an amusing article in the Sunday Mail on the weekend, titled ‘Gen Y Women losing “Female” Skills’. The article was commenting on the fact that Gen Y women are far less likely to pop a roast in the oven and do the ironing while they wait for it to cook, than their mothers were.\n",
      "We don’t bake as many lamingtons, either (although most women I know can put together a killer cocktail). And accordin\n",
      "...\n",
      "Source URL: http://blogs.news.com.au/moneystuff/index.php/news/2011/01/\n",
      "--------------------------------------------------\n",
      "--- Document 6 ---\n",
      "“Incredibly funny and polished two-man musical experience” BMA Magazine\n",
      "“Clever” The Age\n",
      "“Performed an awesome hip hop retelling of Macbeth” The Groggy Squirrel\n",
      "Benjamin and James Stevenson are identical twins who combine to form the musical comedy duo, “The Stevenson Experience”. They first began their comedy career in high school by winning the state finals of the Melbourne International Comedy Festival’s Class Clowns competition. This brought them onto the main stage of the Melbourne Town Hal\n",
      "...\n",
      "Source URL: http://comedyact.com.au/thestevensonexperience\n",
      "--------------------------------------------------\n",
      "--- Document 7 ---\n",
      "Ink Supply System (CISS)\n",
      "MIR-AUS Pty. Ltd. Supplies Continuous Ink Supply System (CISS)for the four major printer brands named as Epson, Canon, Brother and HP.Our CISS tanks come in two different shapes and capacities.The basic one called Fly V.3 holds 100ml ink for each...\n",
      "View all products of category \"Ink Supply System (CISS)\"\n",
      "Refill ink bottles\n",
      "Refill ink bottle use for Ink Supply System and Refillable ink cartridges.Note: you need a syringe to fill your containers. Except 100ml ink bottle.A\n",
      "...\n",
      "Source URL: http://continuousinksupplysystem.com.au/en/content/category/3-mir-aus-ciss-instructions\n",
      "--------------------------------------------------\n",
      "--- Document 8 ---\n",
      "Peanut butter enthusiasts – buckle up. There’s a new healthier alternative in town. I love peanut butter. I remember when I was younger, I’d go for spoonful after spoonful of this sinfully-wonderful-peanut-y-creamy paste after school. Yes, “glutton” I hear you say. But as I grew older, I soon realised that this spread isn’t too innocent afterall.\n",
      "...\n",
      "Source URL: http://foodwatch.com.au/tag/blog/kids.html\n",
      "--------------------------------------------------\n",
      "--- Document 9 ---\n",
      "There could be genetic reasons why some women succumb to pressure to be thin, while others maintain a positive body image, according to US researchers.\n",
      "“We’re all bombarded daily with messages extoling the virtues of being thin, yet intriguingly only some women develop what we term thin ideal internalisation,” study author Jessica Suisman from Michigan State University said in a press release.\n",
      "“This suggests that genetic factors may make some women more susceptible to this pressure than others.”\n",
      "...\n",
      "Source URL: http://health.ninemsn.com.au/healthnews/8542759/genetics-to-blame-for-body-image-issues-study\n",
      "--------------------------------------------------\n",
      "--- Document 10 ---\n",
      "- Managing Me\n",
      "- Big Ideas\n",
      "- Managing People\n",
      "“The object of [the Fair Work] Act is to provide a balanced framework for cooperative and productive workplace relations that promotes national economic prosperity and social inclusion for all Australians …” Fair Work Act, 2009.\n",
      "Many rail against the strictures of the laws governing the workplace. But what would they do if the Fair Work Act authorised them to craft their own framework, subject to but one key condition: that they must negotiate and agre\n",
      "...\n",
      "Source URL: http://leadingcompany.smartcompany.com.au/strategy/enough-rope-liberating-the-fair-work-act/201205241182\n",
      "--------------------------------------------------\n",
      "--- Document 11 ---\n",
      "Arts minister, transport chief go in Qld\n",
      "Queensland has lost its Arts Minister and Transport Department head in the same day.\n",
      "Minister Ros Bates resigned from cabinet for health and family reasons.\n",
      "Four hours later, Premier Campbell Newman sacked Transport and Main Roads Director General Michael Caltabiano.\n",
      "The former Liberal MP is at the centre of an Ethics Committee and Crime and Misconduct Commission investigation into an alleged nepotism scandal.\n",
      "The son of Ms Bates was given a plum job in M\n",
      "...\n",
      "Source URL: http://news.theage.com.au/breaking-news-national/arts-minister-transport-chief-go-in-qld-20130215-2ehdx.html\n",
      "--------------------------------------------------\n"
     ]
    }
   ],
   "source": [
    "from datasets import load_dataset\n",
    "\n",
    "\n",
    "dataset = load_dataset(\"HuggingFaceFW/fineweb\", split=\"train\", streaming=True)\n",
    "\n",
    "\n",
    "filtered = (\n",
    "    example[\"text\"]\n",
    "    for example in dataset\n",
    "    if \".com.au\" in (example.get(\"url\", \"\") or \"\")\n",
    ")\n",
    "\n",
    "# Filter for .com.au URLs and extract both text and URL\n",
    "filtered = (\n",
    "    (example[\"text\"], example.get(\"url\", \"\"))\n",
    "    for example in dataset\n",
    "    if \".com.au\" in (example.get(\"url\", \"\") or \"\")\n",
    ")\n",
    "\n",
    "# Use it: print or write to file\n",
    "for i, (text, url) in enumerate(filtered):\n",
    "    print(f\"--- Document {i+1} ---\")\n",
    "    print(text[:500])  # Print first 500 chars to avoid overwhelming output\n",
    "    print(\"...\")\n",
    "    print(f\"Source URL: {url}\")\n",
    "    print(\"-\" * 50)\n",
    "    if i >= 10:  # Changed to >= for clarity\n",
    "        break"
   ]
  },
  {
   "cell_type": "markdown",
   "id": "67eff111",
   "metadata": {},
   "source": [
    "Let's see if I can write it to a file. Yay, it works! I have a .txt file. "
   ]
  },
  {
   "cell_type": "code",
   "execution_count": 6,
   "id": "af969447",
   "metadata": {},
   "outputs": [],
   "source": [
    "with open(\"australian_content.txt\", \"w\", encoding=\"utf-8\") as f:\n",
    "    for i, (text, url) in enumerate(filtered):\n",
    "        f.write(f\"--- Document {i+1} ---\\n\")\n",
    "        f.write(text)\n",
    "        f.write(f\"\\n\\nSource URL: {url}\\n\")\n",
    "        f.write(\"-\" * 50 + \"\\n\\n\")\n",
    "        if i >= 100:\n",
    "            break"
   ]
  },
  {
   "cell_type": "code",
   "execution_count": null,
   "id": "06499834",
   "metadata": {},
   "outputs": [],
   "source": []
  }
 ],
 "metadata": {
  "kernelspec": {
   "display_name": "3.10.6",
   "language": "python",
   "name": "python3"
  },
  "language_info": {
   "codemirror_mode": {
    "name": "ipython",
    "version": 3
   },
   "file_extension": ".py",
   "mimetype": "text/x-python",
   "name": "python",
   "nbconvert_exporter": "python",
   "pygments_lexer": "ipython3",
   "version": "3.10.6"
  }
 },
 "nbformat": 4,
 "nbformat_minor": 5
}
