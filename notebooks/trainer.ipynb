{
 "cells": [
  {
   "cell_type": "code",
   "execution_count": 1,
   "id": "dbab7d26",
   "metadata": {},
   "outputs": [],
   "source": [
    "import torch\n",
    "from torch.amp import autocast, GradScaler\n",
    "from tqdm import tqdm\n",
    "import sys\n",
    "import hydra\n",
    "import torch\n",
    "from omegaconf import DictConfig, OmegaConf"
   ]
  },
  {
   "cell_type": "code",
   "execution_count": 2,
   "id": "32781253",
   "metadata": {},
   "outputs": [],
   "source": [
    "sys.path.append(\"..\")\n",
    "from model import JoeyLLM\n",
    "from data import get_dataloader\n",
    "from utils.logger import wandbLogger\n",
    "# from train.trainer import  Trainer"
   ]
  },
  {
   "cell_type": "code",
   "execution_count": 3,
   "id": "81b4ad71",
   "metadata": {},
   "outputs": [
    {
     "name": "stdout",
     "output_type": "stream",
     "text": [
      "✅ Loaded Config:\n"
     ]
    }
   ],
   "source": [
    "print(\"✅ Loaded Config:\")\n",
    "\n",
    "# Go UP one level to find the conf directory\n",
    "with hydra.initialize(config_path=\"../configs\", version_base=None):\n",
    "    cfg = hydra.compose(config_name=\"config\")\n",
    "\n",
    "wandbLogger.set_mode(cfg.wandb.mode)\n",
    "\n",
    "logger = wandbLogger(\n",
    "    project_name=cfg.wandb.project,\n",
    "    config=OmegaConf.to_container(cfg, resolve=True)\n",
    ")"
   ]
  },
  {
   "cell_type": "code",
   "execution_count": 4,
   "id": "35146c3d",
   "metadata": {},
   "outputs": [],
   "source": [
    "def compute_loss(outputs, labels):\n",
    "    criterion = torch.nn.CrossEntropyLoss()\n",
    "    B, T, V = outputs.size()\n",
    "    outputs = outputs.view(B * T, V)    # [B*T, V]\n",
    "    labels = labels.view(B * T)         # [B*T]\n",
    "    return criterion(outputs, labels)"
   ]
  },
  {
   "cell_type": "code",
   "execution_count": 5,
   "id": "326ffa49",
   "metadata": {},
   "outputs": [
    {
     "name": "stdout",
     "output_type": "stream",
     "text": [
      "🧠 Initializing Model...\n"
     ]
    }
   ],
   "source": [
    "print(\"🧠 Initializing Model...\")\n",
    "model = JoeyLLM(\n",
    "    vocab_size=cfg.model.vocab_size,\n",
    "    max_seq_len=cfg.model.max_seq_len,\n",
    "    embed_dim=cfg.model.embed_dim,\n",
    "    num_layers=cfg.model.num_layers,\n",
    "    num_heads=cfg.model.num_heads,\n",
    "    dropout=cfg.model.dropout,\n",
    ")\n",
    "logger.watch_model(model, log=\"all\", log_freq=10)"
   ]
  },
  {
   "cell_type": "code",
   "execution_count": 6,
   "id": "1964b4da",
   "metadata": {},
   "outputs": [
    {
     "name": "stdout",
     "output_type": "stream",
     "text": [
      "📦 Loading Dataset...\n"
     ]
    }
   ],
   "source": [
    "\n",
    "print(\"📦 Loading Dataset...\")\n",
    "dataloader = get_dataloader(\n",
    "    data_path=cfg.data.data_path,\n",
    "    chunk_size=cfg.data.chunk_size,\n",
    "    buffer_text_size=cfg.data.buffer_text_size,\n",
    "    batch_size=cfg.data.batch_size,\n",
    "    num_workers=cfg.data.num_workers\n",
    ")"
   ]
  },
  {
   "cell_type": "code",
   "execution_count": 7,
   "id": "86534977",
   "metadata": {},
   "outputs": [],
   "source": [
    "one_batch = next(iter(dataloader))\n"
   ]
  },
  {
   "cell_type": "code",
   "execution_count": 8,
   "id": "e3879725",
   "metadata": {},
   "outputs": [
    {
     "data": {
      "text/plain": [
       "dict"
      ]
     },
     "execution_count": 8,
     "metadata": {},
     "output_type": "execute_result"
    }
   ],
   "source": [
    "type(one_batch)"
   ]
  },
  {
   "cell_type": "code",
   "execution_count": 14,
   "id": "62c7e02b",
   "metadata": {},
   "outputs": [
    {
     "data": {
      "text/plain": [
       "dict_keys(['inputs', 'labels'])"
      ]
     },
     "execution_count": 14,
     "metadata": {},
     "output_type": "execute_result"
    }
   ],
   "source": [
    "one_batch.keys()"
   ]
  },
  {
   "cell_type": "code",
   "execution_count": 16,
   "id": "89b4c4ff",
   "metadata": {},
   "outputs": [
    {
     "name": "stdout",
     "output_type": "stream",
     "text": [
      "tensor([   91,   860,   287, 11579,  3962,  5659,    25, 57049, 28257,   369])\n",
      "tensor([  860,   287, 11579,  3962,  5659,    25, 57049, 28257,   369,   279])\n"
     ]
    }
   ],
   "source": [
    "print(one_batch[\"inputs\"][0][:10])\n",
    "print(one_batch[\"labels\"][0][:10])"
   ]
  },
  {
   "cell_type": "code",
   "execution_count": 28,
   "id": "816b3196",
   "metadata": {},
   "outputs": [
    {
     "name": "stderr",
     "output_type": "stream",
     "text": [
      "Steps: 0it [00:18, ?it/s]\n"
     ]
    }
   ],
   "source": [
    "# def _train_epoch(self, epoch):\n",
    "model.train()\n",
    "total_loss = 0\n",
    "\n",
    "progress_bar = tqdm(dataloader, desc=f\"Steps\", leave=True)\n",
    "scaler = GradScaler()\n",
    "device = torch.device(\"cuda\" if torch.cuda.is_available() else \"cpu\")\n",
    "import torch.optim as optim\n",
    "\n",
    "optimizer = optim.AdamW(\n",
    "    model.parameters(),\n",
    "    lr=2e-5,             # learning rate (tune this!)\n",
    "    betas=(0.9, 0.95),   # GPT-like betas\n",
    "    eps=1e-8,            # for numerical stability\n",
    "    weight_decay=0.01    # decoupled weight decay\n",
    ")\n",
    "model = model.to(device)\n"
   ]
  },
  {
   "cell_type": "code",
   "execution_count": 33,
   "id": "76f02f57",
   "metadata": {},
   "outputs": [
    {
     "name": "stdout",
     "output_type": "stream",
     "text": [
      "Epoch 1 | Training Loss: 2213.9766\n",
      "Epoch 1 | Training Loss: 2704.3449\n",
      "Epoch 1 | Training Loss: 3145.9790\n",
      "Epoch 1 | Training Loss: 3538.5645\n",
      "Epoch 1 | Training Loss: 3888.6259\n",
      "Epoch 1 | Training Loss: 4198.3061\n",
      "Epoch 1 | Training Loss: 4475.4331\n",
      "Epoch 1 | Training Loss: 4724.1740\n",
      "Epoch 1 | Training Loss: 4950.1433\n",
      "Epoch 1 | Training Loss: 5158.5845\n",
      "Epoch 1 | Training Loss: 5349.2645\n",
      "Epoch 1 | Training Loss: 5525.5820\n",
      "Epoch 1 | Training Loss: 5688.5111\n",
      "Epoch 1 | Training Loss: 5842.1418\n",
      "Epoch 1 | Training Loss: 5986.2199\n",
      "Epoch 1 | Training Loss: 6122.9154\n",
      "Epoch 1 | Training Loss: 6252.9100\n",
      "Epoch 1 | Training Loss: 6378.2153\n",
      "Epoch 1 | Training Loss: 6499.3868\n",
      "Epoch 1 | Training Loss: 6616.3841\n",
      "Epoch 1 | Training Loss: 6730.7193\n",
      "Epoch 1 | Training Loss: 6841.5037\n",
      "Epoch 1 | Training Loss: 6949.1263\n",
      "Epoch 1 | Training Loss: 7054.5111\n",
      "Epoch 1 | Training Loss: 7158.2688\n",
      "Epoch 1 | Training Loss: 7260.0808\n",
      "Epoch 1 | Training Loss: 7360.3504\n",
      "Epoch 1 | Training Loss: 7459.2471\n",
      "Epoch 1 | Training Loss: 7556.4884\n",
      "Epoch 1 | Training Loss: 7650.7623\n",
      "Epoch 1 | Training Loss: 7744.9986\n",
      "Epoch 1 | Training Loss: 7837.9767\n",
      "Epoch 1 | Training Loss: 7930.7509\n",
      "Epoch 1 | Training Loss: 8021.5489\n",
      "Epoch 1 | Training Loss: 8111.7552\n",
      "Epoch 1 | Training Loss: 8201.0522\n",
      "Epoch 1 | Training Loss: 8289.8527\n",
      "Epoch 1 | Training Loss: 8377.0275\n",
      "Epoch 1 | Training Loss: 8463.8136\n",
      "Epoch 1 | Training Loss: 8549.7773\n",
      "Epoch 1 | Training Loss: 8635.6158\n",
      "Epoch 1 | Training Loss: 8720.0290\n",
      "Epoch 1 | Training Loss: 8804.0402\n",
      "Epoch 1 | Training Loss: 8887.7936\n",
      "Epoch 1 | Training Loss: 8970.0430\n",
      "Epoch 1 | Training Loss: 9052.3304\n",
      "Epoch 1 | Training Loss: 9133.9385\n",
      "Epoch 1 | Training Loss: 9215.6584\n",
      "Epoch 1 | Training Loss: 9292.9532\n",
      "Epoch 1 | Training Loss: 9373.0152\n",
      "Epoch 1 | Training Loss: 9452.5917\n",
      "Epoch 1 | Training Loss: 9532.0273\n",
      "Epoch 1 | Training Loss: 9610.0457\n",
      "Epoch 1 | Training Loss: 9687.5452\n",
      "Epoch 1 | Training Loss: 9764.5384\n",
      "Epoch 1 | Training Loss: 9842.2404\n",
      "Epoch 1 | Training Loss: 9918.0136\n",
      "Epoch 1 | Training Loss: 9993.8699\n",
      "Epoch 1 | Training Loss: 10069.5523\n",
      "Epoch 1 | Training Loss: 10144.9474\n",
      "Epoch 1 | Training Loss: 10219.8663\n",
      "Epoch 1 | Training Loss: 10294.4726\n",
      "Epoch 1 | Training Loss: 10368.3751\n",
      "Epoch 1 | Training Loss: 10440.8042\n",
      "Epoch 1 | Training Loss: 10513.8560\n",
      "Epoch 1 | Training Loss: 10586.8063\n",
      "Epoch 1 | Training Loss: 10659.6989\n",
      "Epoch 1 | Training Loss: 10731.1013\n",
      "Epoch 1 | Training Loss: 10802.0332\n",
      "Epoch 1 | Training Loss: 10874.7907\n",
      "Epoch 1 | Training Loss: 10946.5184\n",
      "Epoch 1 | Training Loss: 11017.1736\n",
      "Epoch 1 | Training Loss: 11089.1055\n",
      "Epoch 1 | Training Loss: 11158.0968\n",
      "Epoch 1 | Training Loss: 11227.8199\n",
      "Epoch 1 | Training Loss: 11297.0005\n",
      "Epoch 1 | Training Loss: 11365.6375\n",
      "Epoch 1 | Training Loss: 11433.4688\n",
      "Epoch 1 | Training Loss: 11502.3081\n",
      "Epoch 1 | Training Loss: 11571.1279\n",
      "Epoch 1 | Training Loss: 11638.7673\n",
      "Epoch 1 | Training Loss: 11706.3331\n",
      "Epoch 1 | Training Loss: 11772.7462\n",
      "Epoch 1 | Training Loss: 11838.3646\n",
      "Epoch 1 | Training Loss: 11905.1863\n",
      "Epoch 1 | Training Loss: 11971.5675\n",
      "Epoch 1 | Training Loss: 12036.9135\n",
      "Epoch 1 | Training Loss: 12102.3959\n",
      "Epoch 1 | Training Loss: 12167.1020\n"
     ]
    },
    {
     "ename": "KeyboardInterrupt",
     "evalue": "",
     "output_type": "error",
     "traceback": [
      "\u001b[31m---------------------------------------------------------------------------\u001b[39m",
      "\u001b[31mKeyboardInterrupt\u001b[39m                         Traceback (most recent call last)",
      "\u001b[36mCell\u001b[39m\u001b[36m \u001b[39m\u001b[32mIn[33]\u001b[39m\u001b[32m, line 12\u001b[39m\n\u001b[32m      9\u001b[39m     outputs = model(inputs)\n\u001b[32m     10\u001b[39m     loss = compute_loss(outputs, labels)\n\u001b[32m---> \u001b[39m\u001b[32m12\u001b[39m \u001b[43mscaler\u001b[49m\u001b[43m.\u001b[49m\u001b[43mscale\u001b[49m\u001b[43m(\u001b[49m\u001b[43mloss\u001b[49m\u001b[43m)\u001b[49m\u001b[43m.\u001b[49m\u001b[43mbackward\u001b[49m\u001b[43m(\u001b[49m\u001b[43m)\u001b[49m\n\u001b[32m     13\u001b[39m scaler.step(optimizer)\n\u001b[32m     14\u001b[39m scaler.update()\n",
      "\u001b[36mFile \u001b[39m\u001b[32m~/JoeyLLM/.venv/lib/python3.12/site-packages/torch/_tensor.py:648\u001b[39m, in \u001b[36mTensor.backward\u001b[39m\u001b[34m(self, gradient, retain_graph, create_graph, inputs)\u001b[39m\n\u001b[32m    638\u001b[39m \u001b[38;5;28;01mif\u001b[39;00m has_torch_function_unary(\u001b[38;5;28mself\u001b[39m):\n\u001b[32m    639\u001b[39m     \u001b[38;5;28;01mreturn\u001b[39;00m handle_torch_function(\n\u001b[32m    640\u001b[39m         Tensor.backward,\n\u001b[32m    641\u001b[39m         (\u001b[38;5;28mself\u001b[39m,),\n\u001b[32m   (...)\u001b[39m\u001b[32m    646\u001b[39m         inputs=inputs,\n\u001b[32m    647\u001b[39m     )\n\u001b[32m--> \u001b[39m\u001b[32m648\u001b[39m \u001b[43mtorch\u001b[49m\u001b[43m.\u001b[49m\u001b[43mautograd\u001b[49m\u001b[43m.\u001b[49m\u001b[43mbackward\u001b[49m\u001b[43m(\u001b[49m\n\u001b[32m    649\u001b[39m \u001b[43m    \u001b[49m\u001b[38;5;28;43mself\u001b[39;49m\u001b[43m,\u001b[49m\u001b[43m \u001b[49m\u001b[43mgradient\u001b[49m\u001b[43m,\u001b[49m\u001b[43m \u001b[49m\u001b[43mretain_graph\u001b[49m\u001b[43m,\u001b[49m\u001b[43m \u001b[49m\u001b[43mcreate_graph\u001b[49m\u001b[43m,\u001b[49m\u001b[43m \u001b[49m\u001b[43minputs\u001b[49m\u001b[43m=\u001b[49m\u001b[43minputs\u001b[49m\n\u001b[32m    650\u001b[39m \u001b[43m\u001b[49m\u001b[43m)\u001b[49m\n",
      "\u001b[36mFile \u001b[39m\u001b[32m~/JoeyLLM/.venv/lib/python3.12/site-packages/torch/autograd/__init__.py:353\u001b[39m, in \u001b[36mbackward\u001b[39m\u001b[34m(tensors, grad_tensors, retain_graph, create_graph, grad_variables, inputs)\u001b[39m\n\u001b[32m    348\u001b[39m     retain_graph = create_graph\n\u001b[32m    350\u001b[39m \u001b[38;5;66;03m# The reason we repeat the same comment below is that\u001b[39;00m\n\u001b[32m    351\u001b[39m \u001b[38;5;66;03m# some Python versions print out the first line of a multi-line function\u001b[39;00m\n\u001b[32m    352\u001b[39m \u001b[38;5;66;03m# calls in the traceback and some print out the last line\u001b[39;00m\n\u001b[32m--> \u001b[39m\u001b[32m353\u001b[39m \u001b[43m_engine_run_backward\u001b[49m\u001b[43m(\u001b[49m\n\u001b[32m    354\u001b[39m \u001b[43m    \u001b[49m\u001b[43mtensors\u001b[49m\u001b[43m,\u001b[49m\n\u001b[32m    355\u001b[39m \u001b[43m    \u001b[49m\u001b[43mgrad_tensors_\u001b[49m\u001b[43m,\u001b[49m\n\u001b[32m    356\u001b[39m \u001b[43m    \u001b[49m\u001b[43mretain_graph\u001b[49m\u001b[43m,\u001b[49m\n\u001b[32m    357\u001b[39m \u001b[43m    \u001b[49m\u001b[43mcreate_graph\u001b[49m\u001b[43m,\u001b[49m\n\u001b[32m    358\u001b[39m \u001b[43m    \u001b[49m\u001b[43minputs\u001b[49m\u001b[43m,\u001b[49m\n\u001b[32m    359\u001b[39m \u001b[43m    \u001b[49m\u001b[43mallow_unreachable\u001b[49m\u001b[43m=\u001b[49m\u001b[38;5;28;43;01mTrue\u001b[39;49;00m\u001b[43m,\u001b[49m\n\u001b[32m    360\u001b[39m \u001b[43m    \u001b[49m\u001b[43maccumulate_grad\u001b[49m\u001b[43m=\u001b[49m\u001b[38;5;28;43;01mTrue\u001b[39;49;00m\u001b[43m,\u001b[49m\n\u001b[32m    361\u001b[39m \u001b[43m\u001b[49m\u001b[43m)\u001b[49m\n",
      "\u001b[36mFile \u001b[39m\u001b[32m~/JoeyLLM/.venv/lib/python3.12/site-packages/torch/autograd/graph.py:824\u001b[39m, in \u001b[36m_engine_run_backward\u001b[39m\u001b[34m(t_outputs, *args, **kwargs)\u001b[39m\n\u001b[32m    822\u001b[39m     unregister_hooks = _register_logging_hooks_on_whole_graph(t_outputs)\n\u001b[32m    823\u001b[39m \u001b[38;5;28;01mtry\u001b[39;00m:\n\u001b[32m--> \u001b[39m\u001b[32m824\u001b[39m     \u001b[38;5;28;01mreturn\u001b[39;00m \u001b[43mVariable\u001b[49m\u001b[43m.\u001b[49m\u001b[43m_execution_engine\u001b[49m\u001b[43m.\u001b[49m\u001b[43mrun_backward\u001b[49m\u001b[43m(\u001b[49m\u001b[43m  \u001b[49m\u001b[38;5;66;43;03m# Calls into the C++ engine to run the backward pass\u001b[39;49;00m\n\u001b[32m    825\u001b[39m \u001b[43m        \u001b[49m\u001b[43mt_outputs\u001b[49m\u001b[43m,\u001b[49m\u001b[43m \u001b[49m\u001b[43m*\u001b[49m\u001b[43margs\u001b[49m\u001b[43m,\u001b[49m\u001b[43m \u001b[49m\u001b[43m*\u001b[49m\u001b[43m*\u001b[49m\u001b[43mkwargs\u001b[49m\n\u001b[32m    826\u001b[39m \u001b[43m    \u001b[49m\u001b[43m)\u001b[49m  \u001b[38;5;66;03m# Calls into the C++ engine to run the backward pass\u001b[39;00m\n\u001b[32m    827\u001b[39m \u001b[38;5;28;01mfinally\u001b[39;00m:\n\u001b[32m    828\u001b[39m     \u001b[38;5;28;01mif\u001b[39;00m attach_logging_hooks:\n",
      "\u001b[31mKeyboardInterrupt\u001b[39m: "
     ]
    }
   ],
   "source": [
    "\n",
    "for batch_idx, batch in enumerate(progress_bar):\n",
    "    # Handle dict or tuple batch format\n",
    "    inputs = batch[\"inputs\"].to(device)\n",
    "    labels = batch[\"labels\"].to(device)\n",
    "\n",
    "    optimizer.zero_grad()\n",
    "\n",
    "    with autocast(device_type=\"cuda\"):\n",
    "        outputs = model(inputs)\n",
    "        loss = compute_loss(outputs, labels)\n",
    "\n",
    "    scaler.scale(loss).backward()\n",
    "    scaler.step(optimizer)\n",
    "    scaler.update()\n",
    "\n",
    "    total_loss += loss.item()\n",
    "\n",
    "    print(f\"Epoch 1 | Training Loss: {total_loss:.4f}\")\n"
   ]
  },
  {
   "cell_type": "code",
   "execution_count": null,
   "id": "b9ee63a4",
   "metadata": {},
   "outputs": [],
   "source": [
    "\n",
    "def save_checkpoint(self, path):\n",
    "    checkpoint = {\n",
    "        \"model_state\": self.model.state_dict(),\n",
    "        \"optimizer_state\": self.optimizer.state_dict(),\n",
    "        \"scaler_state\": self.scaler.state_dict()\n",
    "    }\n",
    "    if self.scheduler:\n",
    "        checkpoint[\"scheduler_state\"] = self.scheduler.state_dict()\n",
    "    torch.save(checkpoint, path)\n",
    "    print(f\"✅ Checkpoint saved to {path}\")\n"
   ]
  },
  {
   "cell_type": "code",
   "execution_count": null,
   "id": "78ab559f",
   "metadata": {},
   "outputs": [],
   "source": [
    "\n",
    "def load_checkpoint(self, path):\n",
    "    checkpoint = torch.load(path)\n",
    "    self.model.load_state_dict(checkpoint[\"model_state\"])\n",
    "    self.optimizer.load_state_dict(checkpoint[\"optimizer_state\"])\n",
    "    self.scaler.load_state_dict(checkpoint[\"scaler_state\"])\n",
    "    if self.scheduler and \"scheduler_state\" in checkpoint:\n",
    "        self.scheduler.load_state_dict(checkpoint[\"scheduler_state\"])\n",
    "    print(f\"✅ Checkpoint loaded from {path}\")\n"
   ]
  },
  {
   "cell_type": "code",
   "execution_count": null,
   "id": "a0021a82",
   "metadata": {},
   "outputs": [],
   "source": [
    "\n",
    "def fit(self, num_epochs=20, checkpoint_path=\"checkpoints/checkpoint.pth\"):\n",
    "    for epoch in range(1, num_epochs + 1):\n",
    "        train_loss = self._train_epoch(epoch)\n",
    "        self.save_checkpoint(checkpoint_path)\n",
    "\n",
    "        if self.scheduler:\n",
    "            self.scheduler.step()\n",
    "\n",
    "    print(\"🏁 Training complete!\")\n"
   ]
  }
 ],
 "metadata": {
  "kernelspec": {
   "display_name": ".venv",
   "language": "python",
   "name": "python3"
  },
  "language_info": {
   "codemirror_mode": {
    "name": "ipython",
    "version": 3
   },
   "file_extension": ".py",
   "mimetype": "text/x-python",
   "name": "python",
   "nbconvert_exporter": "python",
   "pygments_lexer": "ipython3",
   "version": "3.12.3"
  }
 },
 "nbformat": 4,
 "nbformat_minor": 5
}
