{
 "cells": [
  {
   "cell_type": "code",
   "execution_count": 1,
   "id": "dbab7d26",
   "metadata": {},
   "outputs": [],
   "source": [
    "import torch\n",
    "from torch.amp import autocast, GradScaler\n",
    "from tqdm import tqdm\n",
    "import sys\n",
    "import hydra\n",
    "import torch\n",
    "from omegaconf import DictConfig, OmegaConf"
   ]
  },
  {
   "cell_type": "code",
   "execution_count": 2,
   "id": "32781253",
   "metadata": {},
   "outputs": [],
   "source": [
    "sys.path.append(\"..\")\n",
    "from model import JoeyLLM\n",
    "from data import get_dataloader\n",
    "from utils.logger import wandbLogger\n",
    "# from train.trainer import  Trainer"
   ]
  },
  {
   "cell_type": "code",
   "execution_count": 3,
   "id": "81b4ad71",
   "metadata": {},
   "outputs": [
    {
     "name": "stdout",
     "output_type": "stream",
     "text": [
      "✅ Loaded Config:\n"
     ]
    }
   ],
   "source": [
    "print(\"✅ Loaded Config:\")\n",
    "\n",
    "# Go UP one level to find the conf directory\n",
    "with hydra.initialize(config_path=\"../configs\", version_base=None):\n",
    "    cfg = hydra.compose(config_name=\"config\")\n",
    "\n",
    "wandbLogger.set_mode(cfg.wandb.mode)\n",
    "\n",
    "logger = wandbLogger(\n",
    "    project_name=cfg.wandb.project,\n",
    "    config=OmegaConf.to_container(cfg, resolve=True)\n",
    ")"
   ]
  },
  {
   "cell_type": "code",
   "execution_count": 4,
   "id": "35146c3d",
   "metadata": {},
   "outputs": [],
   "source": [
    "def compute_loss(outputs, labels):\n",
    "    criterion = torch.nn.CrossEntropyLoss()\n",
    "    B, T, V = outputs.size()\n",
    "    outputs = outputs.view(B * T, V)    # [B*T, V]\n",
    "    labels = labels.view(B * T)         # [B*T]\n",
    "    return criterion(outputs, labels)"
   ]
  },
  {
   "cell_type": "code",
   "execution_count": 5,
   "id": "326ffa49",
   "metadata": {},
   "outputs": [
    {
     "name": "stdout",
     "output_type": "stream",
     "text": [
      "🧠 Initializing Model...\n"
     ]
    }
   ],
   "source": [
    "print(\"🧠 Initializing Model...\")\n",
    "model = JoeyLLM(\n",
    "    vocab_size=cfg.model.vocab_size,\n",
    "    max_seq_len=cfg.model.max_seq_len,\n",
    "    embed_dim=cfg.model.embed_dim,\n",
    "    num_layers=cfg.model.num_layers,\n",
    "    num_heads=cfg.model.num_heads,\n",
    "    dropout=cfg.model.dropout,\n",
    ")\n",
    "logger.watch_model(model, log=\"all\", log_freq=10)"
   ]
  },
  {
   "cell_type": "code",
   "execution_count": 6,
   "id": "1964b4da",
   "metadata": {},
   "outputs": [
    {
     "name": "stdout",
     "output_type": "stream",
     "text": [
      "📦 Loading Dataset...\n"
     ]
    }
   ],
   "source": [
    "\n",
    "print(\"📦 Loading Dataset...\")\n",
    "dataloader = get_dataloader(\n",
    "    data_path=cfg.data.data_path,\n",
    "    chunk_size=cfg.data.chunk_size,\n",
    "    buffer_text_size=cfg.data.buffer_text_size,\n",
    "    batch_size=cfg.data.batch_size,\n",
    "    num_workers=cfg.data.num_workers\n",
    ")"
   ]
  },
  {
   "cell_type": "code",
   "execution_count": null,
   "id": "816b3196",
   "metadata": {},
   "outputs": [
    {
     "name": "stderr",
     "output_type": "stream",
     "text": [
      "\n",
      "\u001b[A"
     ]
    }
   ],
   "source": [
    "# def _train_epoch(self, epoch):\n",
    "model.train()\n",
    "total_loss = 0\n",
    "\n",
    "progress_bar = tqdm(dataloader, desc=f\"Steps\", leave=False)"
   ]
  },
  {
   "cell_type": "code",
   "execution_count": null,
   "id": "76f02f57",
   "metadata": {},
   "outputs": [],
   "source": [
    "\n",
    "for batch_idx, batch in enumerate(progress_bar):\n",
    "    # Handle dict or tuple batch format\n",
    "    if isinstance(batch, dict):\n",
    "        inputs = batch[\"inputs\"].to(self.device)\n",
    "        labels = batch[\"labels\"].to(self.device)\n",
    "    else:\n",
    "        inputs = batch[0].to(self.device)\n",
    "        labels = batch[1].to(self.device)\n",
    "\n",
    "    # Ensure shape is [B, T]\n",
    "    if inputs.dim() == 1:\n",
    "        inputs = inputs.unsqueeze(0)\n",
    "\n",
    "    print(f\"⚠️  [DEBUG] inputs.shape = {inputs.shape}\")\n",
    "\n",
    "    self.optimizer.zero_grad()\n",
    "\n",
    "    with autocast(device_type=\"cuda\"):\n",
    "        outputs = self.model(inputs)\n",
    "        loss = self.compute_loss(outputs, labels)\n",
    "\n",
    "    self.scaler.scale(loss).backward()\n",
    "    self.scaler.step(self.optimizer)\n",
    "    self.scaler.update()\n",
    "\n",
    "    total_loss += loss.item()\n",
    "        if self.logger:\n",
    "            self.logger.log_message(msg)\n",
    "            self.logger.log_metrics({\n",
    "                \"train_loss\": loss.item()\n",
    "            }, step=epoch * len(self.dataloader) + batch_idx)\n",
    "\n",
    "    avg_loss = total_loss / len(self.dataloader)\n",
    "    print(f\"Epoch {epoch} | Avg Training Loss: {avg_loss:.4f}\")\n",
    "    return avg_loss\n"
   ]
  },
  {
   "cell_type": "code",
   "execution_count": null,
   "id": "b9ee63a4",
   "metadata": {},
   "outputs": [],
   "source": [
    "\n",
    "def save_checkpoint(self, path):\n",
    "    checkpoint = {\n",
    "        \"model_state\": self.model.state_dict(),\n",
    "        \"optimizer_state\": self.optimizer.state_dict(),\n",
    "        \"scaler_state\": self.scaler.state_dict()\n",
    "    }\n",
    "    if self.scheduler:\n",
    "        checkpoint[\"scheduler_state\"] = self.scheduler.state_dict()\n",
    "    torch.save(checkpoint, path)\n",
    "    print(f\"✅ Checkpoint saved to {path}\")\n"
   ]
  },
  {
   "cell_type": "code",
   "execution_count": null,
   "id": "78ab559f",
   "metadata": {},
   "outputs": [],
   "source": [
    "\n",
    "def load_checkpoint(self, path):\n",
    "    checkpoint = torch.load(path)\n",
    "    self.model.load_state_dict(checkpoint[\"model_state\"])\n",
    "    self.optimizer.load_state_dict(checkpoint[\"optimizer_state\"])\n",
    "    self.scaler.load_state_dict(checkpoint[\"scaler_state\"])\n",
    "    if self.scheduler and \"scheduler_state\" in checkpoint:\n",
    "        self.scheduler.load_state_dict(checkpoint[\"scheduler_state\"])\n",
    "    print(f\"✅ Checkpoint loaded from {path}\")\n"
   ]
  },
  {
   "cell_type": "code",
   "execution_count": null,
   "id": "a0021a82",
   "metadata": {},
   "outputs": [],
   "source": [
    "\n",
    "def fit(self, num_epochs=20, checkpoint_path=\"checkpoints/checkpoint.pth\"):\n",
    "    for epoch in range(1, num_epochs + 1):\n",
    "        train_loss = self._train_epoch(epoch)\n",
    "        self.save_checkpoint(checkpoint_path)\n",
    "\n",
    "        if self.scheduler:\n",
    "            self.scheduler.step()\n",
    "\n",
    "    print(\"🏁 Training complete!\")\n"
   ]
  }
 ],
 "metadata": {
  "kernelspec": {
   "display_name": ".venv",
   "language": "python",
   "name": "python3"
  },
  "language_info": {
   "codemirror_mode": {
    "name": "ipython",
    "version": 3
   },
   "file_extension": ".py",
   "mimetype": "text/x-python",
   "name": "python",
   "nbconvert_exporter": "python",
   "pygments_lexer": "ipython3",
   "version": "3.12.3"
  }
 },
 "nbformat": 4,
 "nbformat_minor": 5
}
